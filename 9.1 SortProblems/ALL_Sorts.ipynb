{
  "nbformat": 4,
  "nbformat_minor": 0,
  "metadata": {
    "colab": {
      "name": "ALL_Sorts.ipynb",
      "provenance": [],
      "collapsed_sections": [],
      "authorship_tag": "ABX9TyP01zwB83u7wN/8cpwE4gWN",
      "include_colab_link": true
    },
    "kernelspec": {
      "name": "python3",
      "display_name": "Python 3"
    },
    "language_info": {
      "name": "python"
    }
  },
  "cells": [
    {
      "cell_type": "markdown",
      "metadata": {
        "id": "view-in-github",
        "colab_type": "text"
      },
      "source": [
        "<a href=\"https://colab.research.google.com/github/klnsuman/ALGO-DS-PYTHON/blob/master/9.1%20SortProblems/ALL_Sorts.ipynb\" target=\"_parent\"><img src=\"https://colab.research.google.com/assets/colab-badge.svg\" alt=\"Open In Colab\"/></a>"
      ]
    },
    {
      "cell_type": "markdown",
      "source": [
        "### 1. Selection Sort"
      ],
      "metadata": {
        "id": "kQehu8va9SMf"
      }
    },
    {
      "cell_type": "code",
      "execution_count": null,
      "metadata": {
        "colab": {
          "base_uri": "https://localhost:8080/"
        },
        "id": "sLDLSvIDyJok",
        "outputId": "0bae9d86-6bd6-4748-f918-24fe0b9c5d1f"
      },
      "outputs": [
        {
          "output_type": "execute_result",
          "data": {
            "text/plain": [
              "[1, 2, 3, 12, 21, 76]"
            ]
          },
          "metadata": {},
          "execution_count": 2
        }
      ],
      "source": [
        "\n",
        "def selectionSort(arr):\n",
        "  min_idx = 0\n",
        "\n",
        "  for i in range(len(arr)):\n",
        "    min_idx = i\n",
        "    for j in range(i+1,len(arr)):\n",
        "      if arr[j] < arr[min_idx] :\n",
        "        min_idx = j\n",
        "    \n",
        "    arr[i],arr[min_idx] = arr[min_idx],arr[i]\n",
        "\n",
        "  return arr\n",
        "\n",
        "a = [12,1,21,3,2,76]\n",
        "\n",
        "selectionSort(a)"
      ]
    },
    {
      "cell_type": "markdown",
      "source": [
        "### 2. Bubble Sort"
      ],
      "metadata": {
        "id": "47oWtNZQBSe3"
      }
    },
    {
      "cell_type": "code",
      "source": [
        "def bubbleSort(arr):\n",
        "  \n",
        "  B = 1\n",
        "  while B:\n",
        "    B = 0 \n",
        "    for i in range(len(arr)-1):\n",
        "      if arr[i+1] < arr[i] :\n",
        "        arr[i],arr[i+1],B = arr[i+1],arr[i],1 \n",
        "    \n",
        "  return arr\n",
        "\n",
        "\n",
        "a = [12,1,21,3,2,76]\n",
        "\n",
        "bubbleSort(a)"
      ],
      "metadata": {
        "colab": {
          "base_uri": "https://localhost:8080/"
        },
        "id": "tAWJQcUb9txv",
        "outputId": "1e473201-6ad5-4a82-e09e-08dd9ce8a0d3"
      },
      "execution_count": null,
      "outputs": [
        {
          "output_type": "execute_result",
          "data": {
            "text/plain": [
              "[1, 2, 3, 12, 21, 76]"
            ]
          },
          "metadata": {},
          "execution_count": 6
        }
      ]
    },
    {
      "cell_type": "markdown",
      "source": [
        "### 3. Insertion Sort\n"
      ],
      "metadata": {
        "id": "2XDm2U1rBuBC"
      }
    },
    {
      "cell_type": "code",
      "source": [
        "def insertionSort(arr):\n",
        "\n",
        "  L = len(arr)\n",
        "\n",
        "  for i in range(1,L):\n",
        "    for j in range(0,i):\n",
        "      if arr[j] > arr[i]:\n",
        "        arr.insert(j,arr.pop(i))\n",
        "        print(arr)\n",
        "\n",
        "  return arr\n",
        "\n",
        "\n",
        "a = [12,1,21,3,2,76]\n",
        "\n",
        "insertionSort(a)\n"
      ],
      "metadata": {
        "colab": {
          "base_uri": "https://localhost:8080/"
        },
        "id": "hg8QD7csBSKc",
        "outputId": "259fa8e6-936c-485f-b866-cdb5e7e6498a"
      },
      "execution_count": null,
      "outputs": [
        {
          "output_type": "stream",
          "name": "stdout",
          "text": [
            "[1, 12, 21, 3, 2, 76]\n",
            "[1, 3, 12, 21, 2, 76]\n",
            "[1, 2, 3, 12, 21, 76]\n"
          ]
        },
        {
          "output_type": "execute_result",
          "data": {
            "text/plain": [
              "[1, 2, 3, 12, 21, 76]"
            ]
          },
          "metadata": {},
          "execution_count": 8
        }
      ]
    },
    {
      "cell_type": "markdown",
      "source": [
        "### 4. Merge Sort"
      ],
      "metadata": {
        "id": "r5F3O4RFtAN8"
      }
    },
    {
      "cell_type": "code",
      "source": [
        "def auxmergeSort(arr , low,high,aux):\n",
        "  if low>=high:\n",
        "    return\n",
        "  \n",
        "  mid = (low+high)//2\n",
        "\n",
        "  auxmergeSort(arr,0,mid,aux)\n",
        "  auxmergeSort(arr,0,mid,aux)\n",
        "  merge(arr,low,mid,high,aux)\n",
        "\n",
        "\n",
        "\n",
        "def mergeSort(arr):\n",
        "  aux = []\n",
        "  auxmergeSort(arr,0,len(arr),aux)"
      ],
      "metadata": {
        "id": "BagplhgL9GCG"
      },
      "execution_count": null,
      "outputs": []
    }
  ]
}
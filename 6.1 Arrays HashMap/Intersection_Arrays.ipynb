{
  "nbformat": 4,
  "nbformat_minor": 0,
  "metadata": {
    "colab": {
      "name": "Intersection_Arrays.ipynb",
      "provenance": [],
      "collapsed_sections": [],
      "authorship_tag": "ABX9TyNx0XWSrWsc8bpvv1bkVL9Q",
      "include_colab_link": true
    },
    "kernelspec": {
      "name": "python3",
      "display_name": "Python 3"
    },
    "language_info": {
      "name": "python"
    }
  },
  "cells": [
    {
      "cell_type": "markdown",
      "metadata": {
        "id": "view-in-github",
        "colab_type": "text"
      },
      "source": [
        "<a href=\"https://colab.research.google.com/github/klnsuman/ALGO-DS-PYTHON/blob/master/6.1%20Arrays%20HashMap/Intersection_Arrays.ipynb\" target=\"_parent\"><img src=\"https://colab.research.google.com/assets/colab-badge.svg\" alt=\"Open In Colab\"/></a>"
      ]
    },
    {
      "cell_type": "markdown",
      "source": [
        "### **Intersection of 2 Sorted Arrays**"
      ],
      "metadata": {
        "id": "IIO62eyhdCMx"
      }
    },
    {
      "cell_type": "code",
      "execution_count": 8,
      "metadata": {
        "colab": {
          "base_uri": "https://localhost:8080/"
        },
        "id": "mABKRiOub54a",
        "outputId": "517f124b-96c5-4bf1-f4fc-fc043f4d610b"
      },
      "outputs": [
        {
          "output_type": "stream",
          "name": "stdout",
          "text": [
            "[3, 7]\n",
            "[3, 7]\n"
          ]
        }
      ],
      "source": [
        "a = [2,3,3,5,7,11]\n",
        "b = [3,3,7,15,31]\n",
        "\n",
        "def find_intersection_arrays(a,b):\n",
        "\n",
        "  first = 0\n",
        "  second = 0\n",
        "  common = []\n",
        "  while first < len(a) and second < len(b):\n",
        "    if a[first] == b[second]:\n",
        "      if (first == 0) or a[first] != a[first-1]:\n",
        "        common.append(a[first])\n",
        "      first += 1\n",
        "      second += 1\n",
        "      \n",
        "    elif a[first] > b[second]:\n",
        "      second += 1\n",
        "    else:\n",
        "      first += 1\n",
        "\n",
        "\n",
        "  print(common)\n",
        "  return common\n",
        "print(find_intersection_arrays(a,b))\n",
        "\n",
        "\n"
      ]
    }
  ]
}
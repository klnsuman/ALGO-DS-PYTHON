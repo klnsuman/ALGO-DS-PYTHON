{
  "nbformat": 4,
  "nbformat_minor": 0,
  "metadata": {
    "colab": {
      "name": "SecondHighest_Array.ipynb",
      "provenance": [],
      "collapsed_sections": [],
      "authorship_tag": "ABX9TyPPzUpQyn//+28C6QtB3IOB",
      "include_colab_link": true
    },
    "kernelspec": {
      "name": "python3",
      "display_name": "Python 3"
    },
    "language_info": {
      "name": "python"
    }
  },
  "cells": [
    {
      "cell_type": "markdown",
      "metadata": {
        "id": "view-in-github",
        "colab_type": "text"
      },
      "source": [
        "<a href=\"https://colab.research.google.com/github/klnsuman/ALGO-DS-PYTHON/blob/master/6.1%20Arrays%20HashMap/SecondHighest_Array.ipynb\" target=\"_parent\"><img src=\"https://colab.research.google.com/assets/colab-badge.svg\" alt=\"Open In Colab\"/></a>"
      ]
    },
    {
      "cell_type": "code",
      "execution_count": 12,
      "metadata": {
        "colab": {
          "base_uri": "https://localhost:8080/"
        },
        "id": "zTpnU-QtWfg2",
        "outputId": "0cf3dc5e-2d30-463c-c62d-b2eec8f52770"
      },
      "outputs": [
        {
          "output_type": "stream",
          "name": "stdout",
          "text": [
            "(7, 6)\n",
            "(11, 10)\n",
            "(11, 10)\n",
            "(99, 45)\n"
          ]
        }
      ],
      "source": [
        "import math\n",
        "def second_high(arr):\n",
        "\n",
        "  fmax = -math.inf\n",
        "  smax = -math.inf\n",
        "\n",
        "  for i in arr:\n",
        "    #print(\"i\",i)\n",
        "    if i >= smax and i < fmax :\n",
        "      smax = i\n",
        "    elif i >= fmax:\n",
        "      smax = fmax\n",
        "      fmax = i\n",
        "  \n",
        "\n",
        "  #print('firstmax',fmax)\n",
        "  #print('secondmax',smax)\n",
        "  return fmax,smax\n",
        "  \n",
        "\n",
        "arr = [1,2,3,4,6,7]\n",
        "print( second_high(arr))\n",
        "\n",
        "arr = [7,8,9,10,11]\n",
        "print( second_high(arr))\n",
        "\n",
        "arr = [7,8,1,10,11]\n",
        "print( second_high(arr))\n",
        "\n",
        "\n",
        "arr = [10, 20, 4, 45, 99]\n",
        "print( second_high(arr))\n"
      ]
    }
  ]
}
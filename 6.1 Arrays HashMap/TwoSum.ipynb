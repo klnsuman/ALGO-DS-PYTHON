{
  "nbformat": 4,
  "nbformat_minor": 0,
  "metadata": {
    "colab": {
      "name": "TwoSum.ipynb",
      "provenance": [],
      "collapsed_sections": [],
      "authorship_tag": "ABX9TyOXeeVHfdiX4XhUA9VFEGTH",
      "include_colab_link": true
    },
    "kernelspec": {
      "name": "python3",
      "display_name": "Python 3"
    },
    "language_info": {
      "name": "python"
    }
  },
  "cells": [
    {
      "cell_type": "markdown",
      "metadata": {
        "id": "view-in-github",
        "colab_type": "text"
      },
      "source": [
        "<a href=\"https://colab.research.google.com/github/klnsuman/ALGO-DS-PYTHON/blob/master/6.1%20Arrays%20HashMap/TwoSum.ipynb\" target=\"_parent\"><img src=\"https://colab.research.google.com/assets/colab-badge.svg\" alt=\"Open In Colab\"/></a>"
      ]
    },
    {
      "cell_type": "code",
      "execution_count": null,
      "metadata": {
        "colab": {
          "base_uri": "https://localhost:8080/"
        },
        "id": "l3hZZjYHe2S_",
        "outputId": "4b572c1b-52d2-4185-f4ba-8f0d176683c4"
      },
      "outputs": [
        {
          "output_type": "stream",
          "name": "stdout",
          "text": [
            "[(1, 7), (2, 6), (3, 5), (5, 3), (6, 2), (7, 1)]\n"
          ]
        }
      ],
      "source": [
        "def two_sum(arr,target):\n",
        "\n",
        "  comp_pairs = []\n",
        "  for i in range(len(arr)):\n",
        "    rem = abs(arr[i] - target)\n",
        "    for j in range(len(arr)):\n",
        "      if int(arr[j]) == int(rem) and i!=j:\n",
        "        comp_pairs.append((i,j))\n",
        "  \n",
        "  return comp_pairs\n",
        "target = 10\n",
        "arr = [1,2,3,4,5,6,7,8]\n",
        "\n",
        "print(two_sum(arr,target))\n",
        "\n"
      ]
    },
    {
      "cell_type": "code",
      "source": [
        "def two_sum_2(arr,target):\n",
        "\n",
        "  compliments = {}\n",
        "  complimentary_pairs = []\n",
        "  for i in range(len(arr)):\n",
        "    \n",
        "    rem = int(abs(arr[i] - target))\n",
        "    if rem in compliments:\n",
        "      complimentary_pairs.append((arr[i],rem))\n",
        "    compliments[ arr[i]] = rem\n",
        "\n",
        "  print(compliments)\n",
        "  return complimentary_pairs\n",
        "\n",
        "target = 10\n",
        "arr = [1 , 4, 2 , 8 , 3 , 10]\n",
        "\n",
        "print(two_sum_2(arr,target))\n",
        "\n",
        "a = {1: 9, 4: 6, 2: 8, 8: 2, 3: 7, 10: 0}\n",
        "for k in a:\n",
        "  print(\"k\",k)\n",
        "  if 7 in a:\n",
        "    print(\"present\")"
      ],
      "metadata": {
        "colab": {
          "base_uri": "https://localhost:8080/"
        },
        "id": "MN9FuERgqQHi",
        "outputId": "c78a9a67-1031-45fd-a3a8-98e94b2d1f35"
      },
      "execution_count": null,
      "outputs": [
        {
          "output_type": "stream",
          "name": "stdout",
          "text": [
            "{1: 9, 4: 6, 2: 8, 8: 2, 3: 7, 10: 0}\n",
            "[(8, 2)]\n",
            "k 1\n",
            "k 4\n",
            "k 2\n",
            "k 8\n",
            "k 3\n",
            "k 10\n"
          ]
        }
      ]
    },
    {
      "cell_type": "code",
      "source": [
        "\n",
        "def getCompPairs(arr,k):\n",
        "\n",
        "    compliments = {}\n",
        "    complimentary_pairs = []\n",
        "\n",
        "    for i in range(len(arr)):\n",
        "        rem = k - arr[i]\n",
        "        if (rem in compliments):\n",
        "            complimentary_pairs.append((arr[i],rem))\n",
        "        compliments[arr[i]] = arr[i]\n",
        "    return complimentary_pairs\n",
        "\n",
        "target = 10\n",
        "arr = [1 , 4, 2 , 8 , 3 , 10]\n",
        "\n",
        "print(getCompPairs(arr,target))"
      ],
      "metadata": {
        "colab": {
          "base_uri": "https://localhost:8080/"
        },
        "id": "lvhD78mH3XBK",
        "outputId": "f481efc2-7716-4dd0-a13f-72e394dd6e14"
      },
      "execution_count": null,
      "outputs": [
        {
          "output_type": "stream",
          "name": "stdout",
          "text": [
            "[(8, 2)]\n"
          ]
        }
      ]
    }
  ]
}
{
  "nbformat": 4,
  "nbformat_minor": 0,
  "metadata": {
    "colab": {
      "name": "reverseString.ipynb",
      "provenance": [],
      "collapsed_sections": [],
      "authorship_tag": "ABX9TyPDfWrxPk8KOIYBGVl1dpOk",
      "include_colab_link": true
    },
    "kernelspec": {
      "name": "python3",
      "display_name": "Python 3"
    },
    "language_info": {
      "name": "python"
    }
  },
  "cells": [
    {
      "cell_type": "markdown",
      "metadata": {
        "id": "view-in-github",
        "colab_type": "text"
      },
      "source": [
        "<a href=\"https://colab.research.google.com/github/klnsuman/ALGO-DS-PYTHON/blob/master/6.1%20Arrays%20HashMap/reverseString.ipynb\" target=\"_parent\"><img src=\"https://colab.research.google.com/assets/colab-badge.svg\" alt=\"Open In Colab\"/></a>"
      ]
    },
    {
      "cell_type": "code",
      "source": [
        ""
      ],
      "metadata": {
        "id": "Y9Hk8kR0UN9l"
      },
      "execution_count": null,
      "outputs": []
    },
    {
      "cell_type": "markdown",
      "source": [
        "### Procedure 1 ###"
      ],
      "metadata": {
        "id": "nc7jd-lIURpR"
      }
    },
    {
      "cell_type": "code",
      "execution_count": 8,
      "metadata": {
        "colab": {
          "base_uri": "https://localhost:8080/"
        },
        "id": "O7CFr6I7Ptfd",
        "outputId": "122d3eda-5b68-4c02-94be-ebe97eed248c"
      },
      "outputs": [
        {
          "output_type": "stream",
          "name": "stdout",
          "text": [
            "namus\n",
            "suma\n",
            "n\n"
          ]
        }
      ],
      "source": [
        "s = \"suman\"\n",
        "print(s[::-1])\n",
        "\n",
        "print(s[0:len(s)-1])\n",
        "print(s[-1])"
      ]
    },
    {
      "cell_type": "markdown",
      "source": [
        "### Procedure 2 "
      ],
      "metadata": {
        "id": "DIY-UlHqUvsc"
      }
    },
    {
      "cell_type": "code",
      "source": [
        "\n",
        "s = \"suman\"\n",
        "\n",
        "def revstring(s):\n",
        "  if len(s) == 1:\n",
        "    return s\n",
        "  return s[-1]+revstring(s[0:len(s)-1])\n",
        "print(revstring(s))"
      ],
      "metadata": {
        "colab": {
          "base_uri": "https://localhost:8080/"
        },
        "id": "fVRNkcjBRgut",
        "outputId": "b5c67282-731b-4e6a-bc3c-66e898e39003"
      },
      "execution_count": 10,
      "outputs": [
        {
          "output_type": "stream",
          "name": "stdout",
          "text": [
            "namus\n"
          ]
        }
      ]
    },
    {
      "cell_type": "markdown",
      "source": [
        "### Procedure 3"
      ],
      "metadata": {
        "id": "fAOJ-I1xUz0x"
      }
    },
    {
      "cell_type": "code",
      "source": [
        "#------------------\n",
        "# Reverse a String\n",
        "#------------------\n",
        "class revStrings:\n",
        "\n",
        "    def iter_rev1(self,string):\n",
        "        rstr = \"\"\n",
        "        for i in string:\n",
        "            rstr = i + rstr\n",
        "\n",
        "        return rstr\n",
        "    # Suman\n",
        "    # ->    recur_rev(\"uman\") + \"S\"\n",
        "    #   ->      recur_rev(\"man\") + \"u\"\n",
        "    #       ->      recur_rev(\"an\") + \"m\"\n",
        "    #           ->      recur_rev(\"n\") + \"a\"\n",
        "    #           ->      \"n\" + \"a\"\n",
        "    #       -> \"n\" + \"a\" + \"m\"\n",
        "    #   ->  \"n\" + \"a\" + \"m\" + \"u\"\n",
        "    #   ->  \"n\" + \"a\" + \"m\" + \"u\" + \"S\"\n",
        "\n",
        "    def recur_rev(self,string):\n",
        "        if(len(string)<=1):\n",
        "            return string\n",
        "        else:\n",
        "            return string[1:]+string[0]\n",
        "\n",
        "    def revstring(self,s):\n",
        "      if len(s) == 1:\n",
        "        return s\n",
        "      return s[-1]+revstring(s[0:len(s)-1])\n",
        "\n",
        "\n",
        "def main():\n",
        "    r = revStrings()\n",
        "    s = \"Suman\"\n",
        "\n",
        "    print(r.iter_rev1(s))\n",
        "    print(r.recur_rev(s))\n",
        "\n",
        "    print(r.revstring(s))\n",
        "    \n",
        "\n",
        "if __name__ == '__main__':\n",
        "    main()"
      ],
      "metadata": {
        "colab": {
          "base_uri": "https://localhost:8080/"
        },
        "id": "PgfzWguNU1os",
        "outputId": "db688a69-5f4a-470b-be13-927cebae57bc"
      },
      "execution_count": 14,
      "outputs": [
        {
          "output_type": "stream",
          "name": "stdout",
          "text": [
            "namuS\n",
            "umanS\n",
            "namuS\n"
          ]
        }
      ]
    }
  ]
}